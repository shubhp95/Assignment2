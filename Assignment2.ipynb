{
 "cells": [
  {
   "cell_type": "code",
   "execution_count": 1,
   "id": "94f0380b",
   "metadata": {},
   "outputs": [],
   "source": [
    "#Q1.\n",
    "\n",
    "#Python was primarily designed and developed by Guido van Rossum, a Dutch computer scientist"
   ]
  },
  {
   "cell_type": "code",
   "execution_count": 2,
   "id": "8fc8a659",
   "metadata": {},
   "outputs": [],
   "source": [
    "#Q2.\n",
    "\n",
    "#Python supports:\n",
    "    \n",
    "    #1. Object Oriented Pragramming(OOPs)\n",
    "    #2. Procedural Programming\n",
    "    #3. Functinal Programming"
   ]
  },
  {
   "cell_type": "code",
   "execution_count": 3,
   "id": "c7ddceb7",
   "metadata": {},
   "outputs": [],
   "source": [
    "#Q3.\n",
    "\n",
    "#Yes, Python is case-sensitive when dealing with identifiers like variable names, function names, and class names"
   ]
  },
  {
   "cell_type": "code",
   "execution_count": 4,
   "id": "ea179c4b",
   "metadata": {},
   "outputs": [],
   "source": [
    "#Q4.\n",
    "\n",
    "#The correct extension for Python source code files is .py"
   ]
  },
  {
   "cell_type": "code",
   "execution_count": 5,
   "id": "66f1f7f4",
   "metadata": {},
   "outputs": [],
   "source": [
    "#Q5.\n",
    "\n",
    "#Python is both compiled and interpreted, but the compilation part is hidden from the programmer."
   ]
  },
  {
   "cell_type": "code",
   "execution_count": 6,
   "id": "f5e28ae8",
   "metadata": {},
   "outputs": [],
   "source": [
    "#Q6.\n",
    "\n",
    "#Some examples of blocks of code in Python are:\n",
    "\n",
    "#1. A module, which is a file containing Python code.\n",
    "#2. A function body, which is the code inside a def statement.\n",
    "#3. A class definition, which is the code inside a class statement.\n",
    "#4. An interactive command, which is a line of code typed in the Python shell or interpreter.\n",
    "#5. A script, which is a file given as input to the Python interpreter.\n"
   ]
  },
  {
   "cell_type": "code",
   "execution_count": 7,
   "id": "b80f5f71",
   "metadata": {},
   "outputs": [],
   "source": [
    "#Q7.\n",
    "\n",
    "#The character used in Python to give single-line comments is the hashtag (#)."
   ]
  },
  {
   "cell_type": "code",
   "execution_count": 8,
   "id": "a56ce6c0",
   "metadata": {},
   "outputs": [],
   "source": [
    "#Q8.\n",
    "\n",
    "#In Python, there are two main ways to find the version of Python you're using:\n",
    "\n",
    "#1. Using the sys.version module\n",
    "#2. Using the platform.python_version() function"
   ]
  },
  {
   "cell_type": "code",
   "execution_count": 9,
   "id": "7ba8c465",
   "metadata": {},
   "outputs": [],
   "source": [
    "#Q9.\n",
    "\n",
    "#Python supports the creation of anonymous functions at runtime using a construct called a lambda function."
   ]
  },
  {
   "cell_type": "code",
   "execution_count": 10,
   "id": "7ceaf6d3",
   "metadata": {},
   "outputs": [],
   "source": [
    "#Q10.\n",
    "\n",
    "#pip most commonly stands for \"Preferred Installer Program\". It's the de facto package manager for Python."
   ]
  },
  {
   "cell_type": "code",
   "execution_count": 11,
   "id": "c41f828d",
   "metadata": {},
   "outputs": [],
   "source": [
    "#Q11.\n",
    "\n",
    "#len(object): Returns the length of an object, such as a list or string.\n",
    "#list(iterable): Converts an iterable object (like a string or tuple) to a list.\n",
    "#tuple(iterable): Converts an iterable object to a tuple.\n",
    "#dict(iterable): Creates a dictionary from an iterable of key-value pairs.\n",
    "#str(object): Converts an object to a string representation.\n",
    "#range(start, stop, step): Generates a sequence of numbers within a specified range."
   ]
  },
  {
   "cell_type": "code",
   "execution_count": 12,
   "id": "c924b62a",
   "metadata": {},
   "outputs": [],
   "source": [
    "#Q12.\n",
    "\n",
    "#In Python, the maximum possible length of an identifier (variable names, function names, class names, etc.) is 79 characters."
   ]
  },
  {
   "cell_type": "code",
   "execution_count": 13,
   "id": "0b9b04a6",
   "metadata": {},
   "outputs": [],
   "source": [
    "#Q13.\n",
    "\n",
    "#1. Open-source and free\n",
    "#2. Simple and intuitive syntax\n",
    "#3. Focus on clarity over complexity\n",
    "#4. Large job market\n",
    "#5. Continuously improving and evolving"
   ]
  },
  {
   "cell_type": "code",
   "execution_count": 14,
   "id": "aa1d7cda",
   "metadata": {},
   "outputs": [],
   "source": [
    "#Q14.\n",
    "\n",
    "#Memory management in Python is handled automatically by the Python interpreter in a process called garbage collection. This means you generally don't need to manually manage memory allocation or deallocation, unlike some other programming languages."
   ]
  },
  {
   "cell_type": "code",
   "execution_count": 15,
   "id": "50ccfd7e",
   "metadata": {},
   "outputs": [],
   "source": [
    "#Q15.\n",
    "\n",
    "#Download Python:\n",
    "#Go to https://www.python.org/downloads/ and download the latest stable version for your system (32-bit or 64-bit).\n",
    "#Install Python:\n",
    "#Double-click the downloaded installer file.\n",
    "#Important: During installation, ensure you check the box next to \"Add Python 3.x to PATH\" (where x is the version you're installing). This automatically sets the path variable so you can run Python from anywhere in your command prompt.\n",
    "#Verify Installation:\n",
    "#Open a command prompt window (search for \"cmd\").\n",
    "#Type python --version and press Enter. If the installation was successful, you should see the Python version information.\n",
    "\n",
    "\n",
    "\n",
    "#Setting path variable:\n",
    "#Right-click \"This PC\" (or \"My Computer\") and select \"Properties\".\n",
    "#Go to \"Advanced system settings\" -> \"Environment Variables\".\n",
    "#Under \"System variables\", find the \"Path\" variable and click \"Edit\".\n",
    "#Click \"New\" and add the path to your Python installation directory (e.g., C:\\Python310).\n",
    "#Click \"OK\" to save the changes."
   ]
  },
  {
   "cell_type": "code",
   "execution_count": null,
   "id": "9c4584d1",
   "metadata": {},
   "outputs": [],
   "source": [
    "#Q16.\n",
    "\n",
    "#Yes, indentation is mandatory in Python."
   ]
  }
 ],
 "metadata": {
  "kernelspec": {
   "display_name": "Python 3",
   "language": "python",
   "name": "python3"
  },
  "language_info": {
   "codemirror_mode": {
    "name": "ipython",
    "version": 3
   },
   "file_extension": ".py",
   "mimetype": "text/x-python",
   "name": "python",
   "nbconvert_exporter": "python",
   "pygments_lexer": "ipython3",
   "version": "3.8.8"
  }
 },
 "nbformat": 4,
 "nbformat_minor": 5
}
